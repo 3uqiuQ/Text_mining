{
 "cells": [
  {
   "cell_type": "markdown",
   "id": "958fde45",
   "metadata": {},
   "source": [
    "**Exercici 1**\n",
    "\n",
    "Agafa un text en anglès que vulguis, i calcula'n la freqüència de les paraules."
   ]
  },
  {
   "cell_type": "code",
   "execution_count": 1,
   "id": "ccd52492",
   "metadata": {},
   "outputs": [],
   "source": [
    "import nltk\n",
    "\n",
    "#nltk.download('punkt')\n",
    "#nltk.download('stopwords')\n",
    "\n",
    "from nltk.tokenize import word_tokenize\n",
    "from nltk.probability import FreqDist\n",
    "from nltk.corpus import stopwords\n",
    "from nltk.stem import SnowballStemmer\n",
    "from nltk.sentiment.vader import SentimentIntensityAnalyzer"
   ]
  },
  {
   "cell_type": "code",
   "execution_count": 2,
   "id": "b1813eb9",
   "metadata": {},
   "outputs": [],
   "source": [
    "text = 'Iceland is a European island country, whose territory includes the island of the same name and some small adjacent islands and islets in the Atlantic Ocean. Its capital is Reykjavík. It has a population of about 366,425 inhabitants and an area of 103,000 km².1​5​ Due to its location on the mid-Atlantic ridge, it is a country with great volcanic and geological activity, a factor that greatly affects the landscape. of Icelandic territory. The interior of the country consists of a plateau characterized by deserts, mountains, glaciers and glacial rivers that flow to the sea through the lowlands. Thanks to the effects of the Gulf Stream, it has a temperate climate, relative to its latitude, and provides a habitable environment.'"
   ]
  },
  {
   "cell_type": "code",
   "execution_count": 3,
   "id": "88218f86",
   "metadata": {},
   "outputs": [
    {
     "data": {
      "text/plain": [
       "['Iceland',\n",
       " 'is',\n",
       " 'a',\n",
       " 'European',\n",
       " 'island',\n",
       " 'country',\n",
       " ',',\n",
       " 'whose',\n",
       " 'territory',\n",
       " 'includes',\n",
       " 'the',\n",
       " 'island',\n",
       " 'of',\n",
       " 'the',\n",
       " 'same',\n",
       " 'name',\n",
       " 'and',\n",
       " 'some',\n",
       " 'small',\n",
       " 'adjacent',\n",
       " 'islands',\n",
       " 'and',\n",
       " 'islets',\n",
       " 'in',\n",
       " 'the',\n",
       " 'Atlantic',\n",
       " 'Ocean',\n",
       " '.',\n",
       " 'Its',\n",
       " 'capital',\n",
       " 'is',\n",
       " 'Reykjavík',\n",
       " '.',\n",
       " 'It',\n",
       " 'has',\n",
       " 'a',\n",
       " 'population',\n",
       " 'of',\n",
       " 'about',\n",
       " '366,425',\n",
       " 'inhabitants',\n",
       " 'and',\n",
       " 'an',\n",
       " 'area',\n",
       " 'of',\n",
       " '103,000',\n",
       " 'km².1\\u200b5\\u200b',\n",
       " 'Due',\n",
       " 'to',\n",
       " 'its',\n",
       " 'location',\n",
       " 'on',\n",
       " 'the',\n",
       " 'mid-Atlantic',\n",
       " 'ridge',\n",
       " ',',\n",
       " 'it',\n",
       " 'is',\n",
       " 'a',\n",
       " 'country',\n",
       " 'with',\n",
       " 'great',\n",
       " 'volcanic',\n",
       " 'and',\n",
       " 'geological',\n",
       " 'activity',\n",
       " ',',\n",
       " 'a',\n",
       " 'factor',\n",
       " 'that',\n",
       " 'greatly',\n",
       " 'affects',\n",
       " 'the',\n",
       " 'landscape',\n",
       " '.',\n",
       " 'of',\n",
       " 'Icelandic',\n",
       " 'territory',\n",
       " '.',\n",
       " 'The',\n",
       " 'interior',\n",
       " 'of',\n",
       " 'the',\n",
       " 'country',\n",
       " 'consists',\n",
       " 'of',\n",
       " 'a',\n",
       " 'plateau',\n",
       " 'characterized',\n",
       " 'by',\n",
       " 'deserts',\n",
       " ',',\n",
       " 'mountains',\n",
       " ',',\n",
       " 'glaciers',\n",
       " 'and',\n",
       " 'glacial',\n",
       " 'rivers',\n",
       " 'that',\n",
       " 'flow',\n",
       " 'to',\n",
       " 'the',\n",
       " 'sea',\n",
       " 'through',\n",
       " 'the',\n",
       " 'lowlands',\n",
       " '.',\n",
       " 'Thanks',\n",
       " 'to',\n",
       " 'the',\n",
       " 'effects',\n",
       " 'of',\n",
       " 'the',\n",
       " 'Gulf',\n",
       " 'Stream',\n",
       " ',',\n",
       " 'it',\n",
       " 'has',\n",
       " 'a',\n",
       " 'temperate',\n",
       " 'climate',\n",
       " ',',\n",
       " 'relative',\n",
       " 'to',\n",
       " 'its',\n",
       " 'latitude',\n",
       " ',',\n",
       " 'and',\n",
       " 'provides',\n",
       " 'a',\n",
       " 'habitable',\n",
       " 'environment',\n",
       " '.']"
      ]
     },
     "execution_count": 3,
     "metadata": {},
     "output_type": "execute_result"
    }
   ],
   "source": [
    "words = nltk.word_tokenize(text)\n",
    "words"
   ]
  },
  {
   "cell_type": "code",
   "execution_count": 4,
   "id": "da736a2b",
   "metadata": {},
   "outputs": [
    {
     "name": "stdout",
     "output_type": "stream",
     "text": [
      "<FreqDist with 82 samples and 133 outcomes>\n"
     ]
    },
    {
     "data": {
      "text/plain": [
       "FreqDist({'the': 10, ',': 8, 'a': 7, 'of': 7, 'and': 6, '.': 6, 'to': 4, 'is': 3, 'country': 3, 'island': 2, ...})"
      ]
     },
     "execution_count": 4,
     "metadata": {},
     "output_type": "execute_result"
    }
   ],
   "source": [
    "words_freq = FreqDist(words)\n",
    "print(words_freq)\n",
    "words_freq"
   ]
  },
  {
   "cell_type": "code",
   "execution_count": 5,
   "id": "c1096bc6",
   "metadata": {},
   "outputs": [
    {
     "data": {
      "text/plain": [
       "[('the', 10), (',', 8), ('a', 7), ('of', 7), ('and', 6)]"
      ]
     },
     "execution_count": 5,
     "metadata": {},
     "output_type": "execute_result"
    }
   ],
   "source": [
    "comm_words = words_freq.most_common(5)\n",
    "comm_words"
   ]
  },
  {
   "cell_type": "code",
   "execution_count": 6,
   "id": "add14baa",
   "metadata": {},
   "outputs": [
    {
     "name": "stdout",
     "output_type": "stream",
     "text": [
      "Palabra: Iceland, Frecuencia: 1\n",
      "Palabra: is, Frecuencia: 3\n",
      "Palabra: a, Frecuencia: 7\n",
      "Palabra: European, Frecuencia: 1\n",
      "Palabra: island, Frecuencia: 2\n",
      "Palabra: country, Frecuencia: 3\n",
      "Palabra: ,, Frecuencia: 8\n",
      "Palabra: whose, Frecuencia: 1\n",
      "Palabra: territory, Frecuencia: 2\n",
      "Palabra: includes, Frecuencia: 1\n",
      "Palabra: the, Frecuencia: 10\n",
      "Palabra: of, Frecuencia: 7\n",
      "Palabra: same, Frecuencia: 1\n",
      "Palabra: name, Frecuencia: 1\n",
      "Palabra: and, Frecuencia: 6\n",
      "Palabra: some, Frecuencia: 1\n",
      "Palabra: small, Frecuencia: 1\n",
      "Palabra: adjacent, Frecuencia: 1\n",
      "Palabra: islands, Frecuencia: 1\n",
      "Palabra: islets, Frecuencia: 1\n",
      "Palabra: in, Frecuencia: 1\n",
      "Palabra: Atlantic, Frecuencia: 1\n",
      "Palabra: Ocean, Frecuencia: 1\n",
      "Palabra: ., Frecuencia: 6\n",
      "Palabra: Its, Frecuencia: 1\n",
      "Palabra: capital, Frecuencia: 1\n",
      "Palabra: Reykjavík, Frecuencia: 1\n",
      "Palabra: It, Frecuencia: 1\n",
      "Palabra: has, Frecuencia: 2\n",
      "Palabra: population, Frecuencia: 1\n",
      "Palabra: about, Frecuencia: 1\n",
      "Palabra: 366,425, Frecuencia: 1\n",
      "Palabra: inhabitants, Frecuencia: 1\n",
      "Palabra: an, Frecuencia: 1\n",
      "Palabra: area, Frecuencia: 1\n",
      "Palabra: 103,000, Frecuencia: 1\n",
      "Palabra: km².1​5​, Frecuencia: 1\n",
      "Palabra: Due, Frecuencia: 1\n",
      "Palabra: to, Frecuencia: 4\n",
      "Palabra: its, Frecuencia: 2\n",
      "Palabra: location, Frecuencia: 1\n",
      "Palabra: on, Frecuencia: 1\n",
      "Palabra: mid-Atlantic, Frecuencia: 1\n",
      "Palabra: ridge, Frecuencia: 1\n",
      "Palabra: it, Frecuencia: 2\n",
      "Palabra: with, Frecuencia: 1\n",
      "Palabra: great, Frecuencia: 1\n",
      "Palabra: volcanic, Frecuencia: 1\n",
      "Palabra: geological, Frecuencia: 1\n",
      "Palabra: activity, Frecuencia: 1\n",
      "Palabra: factor, Frecuencia: 1\n",
      "Palabra: that, Frecuencia: 2\n",
      "Palabra: greatly, Frecuencia: 1\n",
      "Palabra: affects, Frecuencia: 1\n",
      "Palabra: landscape, Frecuencia: 1\n",
      "Palabra: Icelandic, Frecuencia: 1\n",
      "Palabra: The, Frecuencia: 1\n",
      "Palabra: interior, Frecuencia: 1\n",
      "Palabra: consists, Frecuencia: 1\n",
      "Palabra: plateau, Frecuencia: 1\n",
      "Palabra: characterized, Frecuencia: 1\n",
      "Palabra: by, Frecuencia: 1\n",
      "Palabra: deserts, Frecuencia: 1\n",
      "Palabra: mountains, Frecuencia: 1\n",
      "Palabra: glaciers, Frecuencia: 1\n",
      "Palabra: glacial, Frecuencia: 1\n",
      "Palabra: rivers, Frecuencia: 1\n",
      "Palabra: flow, Frecuencia: 1\n",
      "Palabra: sea, Frecuencia: 1\n",
      "Palabra: through, Frecuencia: 1\n",
      "Palabra: lowlands, Frecuencia: 1\n",
      "Palabra: Thanks, Frecuencia: 1\n",
      "Palabra: effects, Frecuencia: 1\n",
      "Palabra: Gulf, Frecuencia: 1\n",
      "Palabra: Stream, Frecuencia: 1\n",
      "Palabra: temperate, Frecuencia: 1\n",
      "Palabra: climate, Frecuencia: 1\n",
      "Palabra: relative, Frecuencia: 1\n",
      "Palabra: latitude, Frecuencia: 1\n",
      "Palabra: provides, Frecuencia: 1\n",
      "Palabra: habitable, Frecuencia: 1\n",
      "Palabra: environment, Frecuencia: 1\n"
     ]
    }
   ],
   "source": [
    "for palabra, frecuencia in words_freq.items():\n",
    "    print(f'Palabra: {palabra}, Frecuencia: {frecuencia}')\n"
   ]
  },
  {
   "cell_type": "markdown",
   "id": "8b7884fc",
   "metadata": {},
   "source": [
    "**Exercici 2**\n",
    "\n",
    "Treu les stopwords i realitza stemming al teu conjunt de dades."
   ]
  },
  {
   "cell_type": "code",
   "execution_count": 7,
   "id": "21557a92",
   "metadata": {},
   "outputs": [
    {
     "name": "stdout",
     "output_type": "stream",
     "text": [
      "79\n",
      "['Iceland', 'European', 'island', 'country', ',', 'whose', 'territory', 'includes', 'island', 'name', 'small', 'adjacent', 'islands', 'islets', 'Atlantic', 'Ocean', '.', 'Its', 'capital', 'Reykjavík', '.', 'It', 'population', '366,425', 'inhabitants', 'area', '103,000', 'km².1\\u200b5\\u200b', 'Due', 'location', 'mid-Atlantic', 'ridge', ',', 'country', 'great', 'volcanic', 'geological', 'activity', ',', 'factor', 'greatly', 'affects', 'landscape', '.', 'Icelandic', 'territory', '.', 'The', 'interior', 'country', 'consists', 'plateau', 'characterized', 'deserts', ',', 'mountains', ',', 'glaciers', 'glacial', 'rivers', 'flow', 'sea', 'lowlands', '.', 'Thanks', 'effects', 'Gulf', 'Stream', ',', 'temperate', 'climate', ',', 'relative', 'latitude', ',', 'provides', 'habitable', 'environment', '.']\n"
     ]
    }
   ],
   "source": [
    "#nltk.download('stopwords')\n",
    "\n",
    "stopwords_en = set(stopwords.words('english'))\n",
    "\n",
    "filtered_words = []\n",
    "for palabra in words:\n",
    "    if palabra not in stopwords_en:\n",
    "        filtered_words.append(palabra)\n",
    "\n",
    "print(len(filtered_words))\n",
    "print(filtered_words)\n"
   ]
  },
  {
   "cell_type": "code",
   "execution_count": 8,
   "id": "758a4f51",
   "metadata": {},
   "outputs": [
    {
     "name": "stdout",
     "output_type": "stream",
     "text": [
      "Iceland European island country , whose territory includes island name small adjacent islands islets Atlantic Ocean . Its capital Reykjavík . It population 366,425 inhabitants area 103,000 km².1​5​ Due location mid-Atlantic ridge , country great volcanic geological activity , factor greatly affects landscape . Icelandic territory . The interior country consists plateau characterized deserts , mountains , glaciers glacial rivers flow sea lowlands . Thanks effects Gulf Stream , temperate climate , relative latitude , provides habitable environment .\n"
     ]
    }
   ],
   "source": [
    "filtered_text = ' '.join(filtered_words)\n",
    "print(filtered_text)"
   ]
  },
  {
   "cell_type": "code",
   "execution_count": 9,
   "id": "d5857eb2",
   "metadata": {},
   "outputs": [
    {
     "name": "stdout",
     "output_type": "stream",
     "text": [
      "79\n",
      "['iceland', 'european', 'island', 'countri', ',', 'whose', 'territori', 'includ', 'island', 'name', 'small', 'adjac', 'island', 'islet', 'atlant', 'ocean', '.', 'it', 'capit', 'reykjavík', '.', 'it', 'popul', '366,425', 'inhabit', 'area', '103,000', 'km².1\\u200b5\\u200b', 'due', 'locat', 'mid-atlant', 'ridg', ',', 'countri', 'great', 'volcan', 'geolog', 'activ', ',', 'factor', 'great', 'affect', 'landscap', '.', 'iceland', 'territori', '.', 'the', 'interior', 'countri', 'consist', 'plateau', 'character', 'desert', ',', 'mountain', ',', 'glacier', 'glacial', 'river', 'flow', 'sea', 'lowland', '.', 'thank', 'effect', 'gulf', 'stream', ',', 'temper', 'climat', ',', 'relat', 'latitud', ',', 'provid', 'habit', 'environ', '.']\n"
     ]
    }
   ],
   "source": [
    "stemmer = SnowballStemmer('english')\n",
    "\n",
    "stemmed_words = []\n",
    "for palabra in filtered_words:\n",
    "    stemmed_words.append(stemmer.stem(palabra))\n",
    "\n",
    "print(len(stemmed_words))\n",
    "print(stemmed_words)"
   ]
  },
  {
   "cell_type": "code",
   "execution_count": 10,
   "id": "9cc2ff9d",
   "metadata": {},
   "outputs": [
    {
     "name": "stdout",
     "output_type": "stream",
     "text": [
      "iceland european island countri , whose territori includ island name small adjac island islet atlant ocean . it capit reykjavík . it popul 366,425 inhabit area 103,000 km².1​5​ due locat mid-atlant ridg , countri great volcan geolog activ , factor great affect landscap . iceland territori . the interior countri consist plateau character desert , mountain , glacier glacial river flow sea lowland . thank effect gulf stream , temper climat , relat latitud , provid habit environ .\n"
     ]
    }
   ],
   "source": [
    "stemmed_text = ' '.join(stemmed_words)\n",
    "print(stemmed_text)"
   ]
  },
  {
   "cell_type": "markdown",
   "id": "65260f24",
   "metadata": {},
   "source": [
    "**Exercici 3**\n",
    "\n",
    "Realitza sentiment analysis al teu conjunt de dades."
   ]
  },
  {
   "cell_type": "code",
   "execution_count": 11,
   "id": "cba54127",
   "metadata": {},
   "outputs": [
    {
     "name": "stdout",
     "output_type": "stream",
     "text": [
      "{'neg': 0.052, 'neu': 0.804, 'pos': 0.143, 'compound': 0.8316}\n"
     ]
    }
   ],
   "source": [
    "analyzer = SentimentIntensityAnalyzer()\n",
    "\n",
    "sentiment = analyzer.polarity_scores(stemmed_text)\n",
    "print(sentiment)"
   ]
  },
  {
   "cell_type": "code",
   "execution_count": 12,
   "id": "76e6dcbf",
   "metadata": {},
   "outputs": [
    {
     "name": "stdout",
     "output_type": "stream",
     "text": [
      "Sentimiento: Positivo\n"
     ]
    }
   ],
   "source": [
    "if sentiment['compound'] >= 0.05:\n",
    "    print ('Sentimiento: Positivo')\n",
    "elif sentiment['compound'] <= 0.05:\n",
    "    print('Sentimiento: Negativo')\n",
    "else:\n",
    "    print('Sentimiento: Neutral')"
   ]
  },
  {
   "cell_type": "code",
   "execution_count": null,
   "id": "4828e6eb",
   "metadata": {},
   "outputs": [],
   "source": []
  }
 ],
 "metadata": {
  "kernelspec": {
   "display_name": "Python 3 (ipykernel)",
   "language": "python",
   "name": "python3"
  },
  "language_info": {
   "codemirror_mode": {
    "name": "ipython",
    "version": 3
   },
   "file_extension": ".py",
   "mimetype": "text/x-python",
   "name": "python",
   "nbconvert_exporter": "python",
   "pygments_lexer": "ipython3",
   "version": "3.9.13"
  }
 },
 "nbformat": 4,
 "nbformat_minor": 5
}
